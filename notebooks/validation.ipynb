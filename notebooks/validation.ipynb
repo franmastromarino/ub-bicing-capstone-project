{
 "cells": [
  {
   "cell_type": "markdown",
   "metadata": {},
   "source": [
    "Task: Validate stations_final "
   ]
  },
  {
   "cell_type": "code",
   "execution_count": 13,
   "metadata": {},
   "outputs": [
    {
     "name": "stderr",
     "output_type": "stream",
     "text": [
      "100%|██████████| 3/3 [00:00<00:00, 71.59it/s]\n"
     ]
    }
   ],
   "source": [
    "path_to_csv_folder = './data/raw/historical/*.csv'\n",
    "path_to_stations_final = './data/processed/groupby/stations_final.csv'\n",
    "\n",
    "from IPython.display import display\n",
    "import dask.dataframe as dd\n",
    "from tqdm.notebook import tqdm\n",
    "import pandas as pd\n",
    "import sys\n",
    "\n",
    "sys.path.append('../src')\n",
    "\n",
    "from data.load_raw import load_raw\n",
    "\n",
    "# Cargar los archivos de datos brutos\n",
    "files = load_raw()\n",
    "\n",
    "#Count total of registries in path_to_csv_folder\n",
    "def count_records_in_historical_files(files):\n",
    "    \"\"\"\n",
    "    Count the total number of records across all Dask DataFrames provided in a dictionary.\n",
    "\n",
    "    Args:\n",
    "    files (dict): A dictionary where the keys are file names and the values are Dask DataFrames.\n",
    "\n",
    "    Returns:\n",
    "    int: Total number of records across all files.\n",
    "    \"\"\"\n",
    "    total_records = 0\n",
    "    for df in files.values():\n",
    "        total_records += len(df)\n",
    "    return total_records\n",
    "\n",
    "historical_files_count = count_records_in_historical_files(files)"
   ]
  },
  {
   "cell_type": "code",
   "execution_count": 14,
   "metadata": {},
   "outputs": [],
   "source": [
    "\n",
    "\n",
    "def count_records_in_stations_final():\n",
    "    \n",
    "    path_to_stations_final = '../data/processed/groupby/stations_final.csv'\n",
    "\n",
    "    dtype = {\n",
    "        'station_id': 'float64',\n",
    "        'num_bikes_available': 'float64',\n",
    "        'num_bikes_available_types.mechanical': 'float64',\n",
    "        'num_bikes_available_types.ebike': 'float64',\n",
    "        'num_docks_available': 'float64',\n",
    "        'last_reported': 'float64',\n",
    "        'is_charging_station': 'object',\n",
    "        'status': 'object',\n",
    "        'is_installed': 'object',\n",
    "        'is_renting': 'object',\n",
    "        'is_returning': 'object',\n",
    "        'traffic': 'object',\n",
    "        'last_updated': 'float64',\n",
    "        'ttl': 'float64'\n",
    "    }\n",
    "    \n",
    "    \"\"\"\n",
    "    Loads a CSV file into a Dask DataFrame and counts its records.\n",
    "\n",
    "    Args:\n",
    "    csv_path (str): The path to the CSV file.\n",
    "\n",
    "    Returns:\n",
    "    int: The total number of records in the CSV file.\n",
    "    \"\"\"\n",
    "    df = dd.read_csv(path_to_stations_final, dtype=dtype)\n",
    "    total_records = len(df)\n",
    "    return total_records\n",
    "\n",
    "dataset_final_count = count_records_in_stations_final()"
   ]
  },
  {
   "cell_type": "code",
   "execution_count": 17,
   "metadata": {},
   "outputs": [
    {
     "name": "stdout",
     "output_type": "stream",
     "text": [
      "Total number of records in historical files *.csv: 13150079\n",
      "Total number of records in the stations_final.csv should be: 219167.98333333334\n",
      "Total number of records in the stations_final.csv file: 143022\n",
      "Proportion of records in stations_final.csv to historical files: 0.6525679427477203\n"
     ]
    }
   ],
   "source": [
    "print(f'Total number of records in historical files *.csv: {historical_files_count}')\n",
    "print(f'Total number of records in the stations_final.csv should be: {historical_files_count / 12 / 5}')\n",
    "print(f'Total number of records in the stations_final.csv file: {dataset_final_count}')\n",
    "# print proportion of records in stations_final.csv to historical files\n",
    "print(f'Proportion of records in stations_final.csv to historical files: {dataset_final_count/(historical_files_count / 12 / 5)}')\n",
    "    \n",
    "    "
   ]
  },
  {
   "cell_type": "code",
   "execution_count": null,
   "metadata": {},
   "outputs": [],
   "source": []
  }
 ],
 "metadata": {
  "kernelspec": {
   "display_name": "Python 3",
   "language": "python",
   "name": "python3"
  },
  "language_info": {
   "codemirror_mode": {
    "name": "ipython",
    "version": 3
   },
   "file_extension": ".py",
   "mimetype": "text/x-python",
   "name": "python",
   "nbconvert_exporter": "python",
   "pygments_lexer": "ipython3",
   "version": "3.9.6"
  }
 },
 "nbformat": 4,
 "nbformat_minor": 2
}
