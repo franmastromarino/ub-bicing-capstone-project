{
 "cells": [
  {
   "cell_type": "markdown",
   "metadata": {},
   "source": [
    "Task: Validate stations_final "
   ]
  },
  {
   "cell_type": "code",
   "execution_count": 1,
   "metadata": {},
   "outputs": [
    {
     "name": "stderr",
     "output_type": "stream",
     "text": [
      "100%|██████████| 12/12 [00:00<00:00, 133.01it/s]\n"
     ]
    },
    {
     "name": "stdout",
     "output_type": "stream",
     "text": [
      "Total number of records: 47651814\n"
     ]
    }
   ],
   "source": [
    "path_to_csv_folder = './data/raw/historical/*.csv'\n",
    "path_to_final_csv = './data/processed/groupby/stations_final.csv'\n",
    "\n",
    "from IPython.display import display\n",
    "import dask.dataframe as dd\n",
    "from tqdm.notebook import tqdm\n",
    "import pandas as pd\n",
    "import sys\n",
    "\n",
    "sys.path.append('../src')\n",
    "\n",
    "from data.load_raw import load_raw\n",
    "\n",
    "# Cargar los archivos de datos brutos\n",
    "files = load_raw()\n",
    "\n",
    "#Count total of registries in path_to_csv_folder\n",
    "def count_records(files):\n",
    "    \"\"\"\n",
    "    Count the total number of records across all Dask DataFrames provided in a dictionary.\n",
    "\n",
    "    Args:\n",
    "    files (dict): A dictionary where the keys are file names and the values are Dask DataFrames.\n",
    "\n",
    "    Returns:\n",
    "    int: Total number of records across all files.\n",
    "    \"\"\"\n",
    "    total_records = 0\n",
    "    for df in files.values():\n",
    "        total_records += len(df)\n",
    "    return total_records\n",
    "\n",
    "count = count_records(files)\n",
    "print(f'Total number of records: {count}') #47651814 para 3 meses por cada anio\n",
    "\n",
    "#Count total of registries in path_to_final_csv"
   ]
  },
  {
   "cell_type": "code",
   "execution_count": null,
   "metadata": {},
   "outputs": [],
   "source": []
  },
  {
   "cell_type": "code",
   "execution_count": 4,
   "metadata": {},
   "outputs": [
    {
     "name": "stdout",
     "output_type": "stream",
     "text": [
      "Total records in the CSV file: 154943\n"
     ]
    }
   ],
   "source": [
    "path_to_final_csv = '../data/processed/groupby/stations_final.csv'\n",
    "\n",
    "dtype = {\n",
    "    'station_id': 'float64',\n",
    "    'num_bikes_available': 'float64',\n",
    "    'num_bikes_available_types.mechanical': 'float64',\n",
    "    'num_bikes_available_types.ebike': 'float64',\n",
    "    'num_docks_available': 'float64',\n",
    "    'last_reported': 'float64',\n",
    "    'is_charging_station': 'object',\n",
    "    'status': 'object',\n",
    "    'is_installed': 'object',\n",
    "    'is_renting': 'object',\n",
    "    'is_returning': 'object',\n",
    "    'traffic': 'object',\n",
    "    'last_updated': 'float64',\n",
    "    'ttl': 'float64'\n",
    "}\n",
    "\n",
    "def count_records_in_csv(csv_path):\n",
    "    \"\"\"\n",
    "    Loads a CSV file into a Dask DataFrame and counts its records.\n",
    "\n",
    "    Args:\n",
    "    csv_path (str): The path to the CSV file.\n",
    "\n",
    "    Returns:\n",
    "    int: The total number of records in the CSV file.\n",
    "    \"\"\"\n",
    "    df = dd.read_csv(csv_path, dtype=dtype)\n",
    "    total_records = len(df)\n",
    "    return total_records\n",
    "\n",
    "# Usage:\n",
    "dataset_final_count = count_records_in_csv(path_to_final_csv)\n",
    "\n",
    "print(\"Total records in the CSV file:\", dataset_final_count)"
   ]
  },
  {
   "cell_type": "code",
   "execution_count": 15,
   "metadata": {},
   "outputs": [
    {
     "name": "stdout",
     "output_type": "stream",
     "text": [
      "The number of records in the CSV file is incorrect.\n",
      "Count:  794196.9\n",
      "Dataset final count:  154943\n",
      "Difference:  5.125735915788387\n"
     ]
    }
   ],
   "source": [
    "if(count / 12 / 5 == dataset_final_count):\n",
    "    print(\"The number of records in the CSV file is correct.\")\n",
    "    print(\"Count: \", count)\n",
    "    print(\"Dataset final count: \", dataset_final_count)\n",
    "else:\n",
    "    print(\"The number of records in the CSV file is incorrect.\")\n",
    "    print(\"Count: \", (count / 12 / 5))\n",
    "    print(\"Dataset final count: \", dataset_final_count)\n",
    "    print(\"Difference: \", (count / 12 / 5) / dataset_final_count)\n",
    "    \n",
    "    \n",
    "    "
   ]
  },
  {
   "cell_type": "code",
   "execution_count": null,
   "metadata": {},
   "outputs": [],
   "source": []
  }
 ],
 "metadata": {
  "kernelspec": {
   "display_name": "Python 3",
   "language": "python",
   "name": "python3"
  },
  "language_info": {
   "codemirror_mode": {
    "name": "ipython",
    "version": 3
   },
   "file_extension": ".py",
   "mimetype": "text/x-python",
   "name": "python",
   "nbconvert_exporter": "python",
   "pygments_lexer": "ipython3",
   "version": "3.9.6"
  }
 },
 "nbformat": 4,
 "nbformat_minor": 2
}
