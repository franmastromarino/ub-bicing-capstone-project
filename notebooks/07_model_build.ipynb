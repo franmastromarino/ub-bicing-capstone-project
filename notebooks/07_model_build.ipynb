{
 "cells": [
  {
   "cell_type": "code",
   "execution_count": 1,
   "metadata": {},
   "outputs": [
    {
     "name": "stderr",
     "output_type": "stream",
     "text": [
      "/Users/admin/Library/Python/3.9/lib/python/site-packages/urllib3/__init__.py:35: NotOpenSSLWarning: urllib3 v2 only supports OpenSSL 1.1.1+, currently the 'ssl' module is compiled with 'LibreSSL 2.8.3'. See: https://github.com/urllib3/urllib3/issues/3020\n",
      "  warnings.warn(\n"
     ]
    }
   ],
   "source": [
    "import sys\n",
    "# Add the path to the 'src' directory, not the 'src/utils.py' file\n",
    "sys.path.append('../src')  # This adds the 'src' directory to the sys.path\n",
    "\n",
    "import numpy as np\n",
    "import pandas as pd\n",
    "\n",
    "from sklearn.pipeline import Pipeline\n",
    "from sklearn.preprocessing import StandardScaler\n",
    "from sklearn.model_selection import train_test_split\n",
    "from sklearn.impute import SimpleImputer\n",
    "\n",
    "from catboost import CatBoostRegressor\n",
    "\n",
    "from utils import get_absolute_path, eval_metrics, ColumnsOneHotEncoder"
   ]
  },
  {
   "cell_type": "markdown",
   "metadata": {},
   "source": [
    "# 1. Dataset"
   ]
  },
  {
   "cell_type": "code",
   "execution_count": 2,
   "metadata": {},
   "outputs": [],
   "source": [
    "FEATURES = ['percentage_docks_available', 'station_id', 'post_code', 'altitude', 'laboral_day', 'weekday', 'month', 'day', 'hour', 'ctx-4', 'ctx-3', 'ctx-2', 'ctx-1']\n",
    "\n",
    "DATASET = pd.read_csv(get_absolute_path('../data/processed/groupby/stations_final_2023.csv'))"
   ]
  },
  {
   "cell_type": "markdown",
   "metadata": {},
   "source": [
    "# 2. Pipeline"
   ]
  },
  {
   "cell_type": "code",
   "execution_count": 3,
   "metadata": {},
   "outputs": [],
   "source": [
    "pipeline = Pipeline([\n",
    "  ('onehot', ColumnsOneHotEncoder(columns_to_onehot=['station_id', 'weekday', 'month', 'day', 'hour', 'post_code'])),\n",
    "  ('scaler', StandardScaler()),\n",
    "  ('imputer', SimpleImputer(strategy='mean'))\n",
    "])"
   ]
  },
  {
   "cell_type": "markdown",
   "metadata": {},
   "source": [
    "# 3. Split"
   ]
  },
  {
   "cell_type": "code",
   "execution_count": 4,
   "metadata": {},
   "outputs": [],
   "source": [
    "dataset = DATASET[FEATURES]\n",
    "\n",
    "y = dataset['percentage_docks_available']\n",
    "X = dataset.drop('percentage_docks_available', axis=1)\n",
    "\n",
    "X_train, X_test, y_train, y_test = train_test_split(X, y, test_size=0.20, random_state=42)"
   ]
  },
  {
   "cell_type": "markdown",
   "metadata": {},
   "source": [
    "# 4. Build"
   ]
  },
  {
   "cell_type": "code",
   "execution_count": 5,
   "metadata": {},
   "outputs": [
    {
     "name": "stdout",
     "output_type": "stream",
     "text": [
      "RMSE: 0.10194847369052555\n",
      "MAE: 0.06813020284460979\n",
      "R2 Score: 0.8500652236647668\n"
     ]
    }
   ],
   "source": [
    "# Fit the pipeline\n",
    "pipeline.fit(X_train)\n",
    "\n",
    "# Transform the training and testing data\n",
    "X_train_transformed = pipeline.transform(X_train)\n",
    "X_test_transformed = pipeline.transform(X_test)\n",
    "\n",
    "# Fit the model and make predictions\n",
    "model = CatBoostRegressor(verbose=0, depth=10, l2_leaf_reg=3, learning_rate=0.1)\n",
    "model.fit(X_train_transformed, y_train)\n",
    "y_pred = model.predict(X_test_transformed)\n",
    "\n",
    "# Evaluate the model\n",
    "rmse, mae, r2 = eval_metrics(y_test, y_pred)\n",
    "\n",
    "# Print the evaluation metrics\n",
    "print(f\"RMSE: {rmse}\")\n",
    "print(f\"MAE: {mae}\")\n",
    "print(f\"R2 Score: {r2}\")"
   ]
  },
  {
   "cell_type": "markdown",
   "metadata": {},
   "source": [
    "# 5. Kaggle"
   ]
  },
  {
   "cell_type": "code",
   "execution_count": 7,
   "metadata": {},
   "outputs": [],
   "source": [
    "DATASET_SAMPLE = pd.read_csv(get_absolute_path('../data/processed/groupby/metadata_sample_submission_2024_features.csv'))\n",
    "\n",
    "dataset_sample = DATASET_SAMPLE[[feature for feature in FEATURES if feature != 'percentage_docks_available']]\n",
    "\n",
    "dataset_sample_transformed = pipeline.transform(dataset_sample)\n",
    "\n",
    "y_pred_sample = model.predict(dataset_sample_transformed)\n",
    "\n",
    "prediction_df = pd.DataFrame(y_pred_sample, columns=[\"percentage_docks_available\"])\n",
    "prediction_df.index.name=\"index\"\n",
    "prediction_df.to_csv(get_absolute_path('../data/processed/groupby/metadata_sample_submission_2024_features_predictions.csv'))"
   ]
  }
 ],
 "metadata": {
  "kernelspec": {
   "display_name": "Python 3",
   "language": "python",
   "name": "python3"
  },
  "language_info": {
   "codemirror_mode": {
    "name": "ipython",
    "version": 3
   },
   "file_extension": ".py",
   "mimetype": "text/x-python",
   "name": "python",
   "nbconvert_exporter": "python",
   "pygments_lexer": "ipython3",
   "version": "3.9.6"
  }
 },
 "nbformat": 4,
 "nbformat_minor": 2
}
