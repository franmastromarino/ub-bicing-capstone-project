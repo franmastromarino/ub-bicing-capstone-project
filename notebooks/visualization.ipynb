{
 "cells": [
  {
   "cell_type": "code",
   "execution_count": null,
   "metadata": {},
   "outputs": [],
   "source": [
    "from IPython.display import display\n",
    "import sys\n",
    "import pandas as pd\n",
    "from tqdm.notebook import tqdm\n",
    "sys.path.append('../src')\n",
    "from data.load_raw import load_raw\n",
    "from data.exploration import detect_nulls\n",
    "\n",
    "# Load the raw data files\n",
    "files_df = load_raw()\n",
    "\n",
    "# Initialize a counter\n",
    "counter = 0\n",
    "\n",
    "for file_name, df in tqdm(files_df.items(), desc=\"Processing Files\"):\n",
    "    try:\n",
    "        \n",
    "        counter += 1\n",
    "        \n",
    "        if(counter > 4):\n",
    "            continue\n",
    "\n",
    "        print(f'START {file_name}'.center(100, \"=\"))\n",
    "        \n",
    "        display(df.head())\n",
    "            \n",
    "        print(f'END {file_name}'.center(100, \"=\"))\n",
    "        \n",
    "        # Check if the counter has reached 12 and reset if it has\n",
    "        if counter == 3:\n",
    "            print(\"Counter has reached 12, resetting...\")\n",
    "            counter = 0\n",
    "    except Exception as e:\n",
    "        print(f\"Error processing {file_name}: {e}\")"
   ]
  },
  {
   "cell_type": "code",
   "execution_count": null,
   "metadata": {},
   "outputs": [],
   "source": []
  }
 ],
 "metadata": {
  "kernelspec": {
   "display_name": "Python 3",
   "language": "python",
   "name": "python3"
  },
  "language_info": {
   "codemirror_mode": {
    "name": "ipython",
    "version": 3
   },
   "file_extension": ".py",
   "mimetype": "text/x-python",
   "name": "python",
   "nbconvert_exporter": "python",
   "pygments_lexer": "ipython3",
   "version": "3.9.6"
  }
 },
 "nbformat": 4,
 "nbformat_minor": 2
}
