{
 "cells": [
  {
   "cell_type": "markdown",
   "id": "a81fcf81-23c5-425b-ac04-c167e7fedcc7",
   "metadata": {
    "tags": []
   },
   "source": [
    "# Training"
   ]
  },
  {
   "cell_type": "code",
   "execution_count": 120,
   "id": "ef624340-02a8-4e71-a373-57d03e36cb39",
   "metadata": {},
   "outputs": [],
   "source": [
    "#Import libraries\n",
    "import numpy as np\n",
    "import pandas as pd\n",
    "\n",
    "import matplotlib.pyplot as plt\n",
    "\n",
    "import sklearn\n",
    "from sklearn.model_selection import train_test_split"
   ]
  },
  {
   "cell_type": "code",
   "execution_count": 121,
   "id": "641fc721-011c-45b3-8b6e-d14ba656493a",
   "metadata": {},
   "outputs": [
    {
     "data": {
      "text/html": [
       "<div>\n",
       "<style scoped>\n",
       "    .dataframe tbody tr th:only-of-type {\n",
       "        vertical-align: middle;\n",
       "    }\n",
       "\n",
       "    .dataframe tbody tr th {\n",
       "        vertical-align: top;\n",
       "    }\n",
       "\n",
       "    .dataframe thead th {\n",
       "        text-align: right;\n",
       "    }\n",
       "</style>\n",
       "<table border=\"1\" class=\"dataframe\">\n",
       "  <thead>\n",
       "    <tr style=\"text-align: right;\">\n",
       "      <th></th>\n",
       "      <th>index</th>\n",
       "      <th>station_id</th>\n",
       "      <th>month</th>\n",
       "      <th>day</th>\n",
       "      <th>hour</th>\n",
       "      <th>ctx_4</th>\n",
       "      <th>ctx_3</th>\n",
       "      <th>ctx_2</th>\n",
       "      <th>ctx_1</th>\n",
       "      <th>percentage_docks_available</th>\n",
       "    </tr>\n",
       "  </thead>\n",
       "  <tbody>\n",
       "    <tr>\n",
       "      <th>0</th>\n",
       "      <td>0</td>\n",
       "      <td>1</td>\n",
       "      <td>1</td>\n",
       "      <td>1</td>\n",
       "      <td>5</td>\n",
       "      <td>0.781481</td>\n",
       "      <td>0.677778</td>\n",
       "      <td>0.696296</td>\n",
       "      <td>0.750000</td>\n",
       "      <td>0.757265</td>\n",
       "    </tr>\n",
       "    <tr>\n",
       "      <th>1</th>\n",
       "      <td>1</td>\n",
       "      <td>1</td>\n",
       "      <td>1</td>\n",
       "      <td>1</td>\n",
       "      <td>10</td>\n",
       "      <td>0.737374</td>\n",
       "      <td>0.711111</td>\n",
       "      <td>0.711111</td>\n",
       "      <td>0.731624</td>\n",
       "      <td>0.825926</td>\n",
       "    </tr>\n",
       "    <tr>\n",
       "      <th>2</th>\n",
       "      <td>2</td>\n",
       "      <td>1</td>\n",
       "      <td>1</td>\n",
       "      <td>1</td>\n",
       "      <td>15</td>\n",
       "      <td>0.827778</td>\n",
       "      <td>0.896296</td>\n",
       "      <td>0.901852</td>\n",
       "      <td>0.883333</td>\n",
       "      <td>0.857407</td>\n",
       "    </tr>\n",
       "    <tr>\n",
       "      <th>3</th>\n",
       "      <td>3</td>\n",
       "      <td>1</td>\n",
       "      <td>1</td>\n",
       "      <td>1</td>\n",
       "      <td>20</td>\n",
       "      <td>0.825926</td>\n",
       "      <td>0.874074</td>\n",
       "      <td>0.927778</td>\n",
       "      <td>0.918519</td>\n",
       "      <td>0.833333</td>\n",
       "    </tr>\n",
       "    <tr>\n",
       "      <th>4</th>\n",
       "      <td>4</td>\n",
       "      <td>1</td>\n",
       "      <td>1</td>\n",
       "      <td>2</td>\n",
       "      <td>1</td>\n",
       "      <td>0.712963</td>\n",
       "      <td>0.777778</td>\n",
       "      <td>0.814815</td>\n",
       "      <td>0.790741</td>\n",
       "      <td>0.800000</td>\n",
       "    </tr>\n",
       "    <tr>\n",
       "      <th>...</th>\n",
       "      <td>...</td>\n",
       "      <td>...</td>\n",
       "      <td>...</td>\n",
       "      <td>...</td>\n",
       "      <td>...</td>\n",
       "      <td>...</td>\n",
       "      <td>...</td>\n",
       "      <td>...</td>\n",
       "      <td>...</td>\n",
       "      <td>...</td>\n",
       "    </tr>\n",
       "    <tr>\n",
       "      <th>143017</th>\n",
       "      <td>143017</td>\n",
       "      <td>519</td>\n",
       "      <td>2</td>\n",
       "      <td>29</td>\n",
       "      <td>1</td>\n",
       "      <td>0.666667</td>\n",
       "      <td>0.628788</td>\n",
       "      <td>0.544872</td>\n",
       "      <td>0.486111</td>\n",
       "      <td>0.482639</td>\n",
       "    </tr>\n",
       "    <tr>\n",
       "      <th>143018</th>\n",
       "      <td>143018</td>\n",
       "      <td>519</td>\n",
       "      <td>2</td>\n",
       "      <td>29</td>\n",
       "      <td>6</td>\n",
       "      <td>0.458333</td>\n",
       "      <td>0.458333</td>\n",
       "      <td>0.465278</td>\n",
       "      <td>0.555556</td>\n",
       "      <td>0.659722</td>\n",
       "    </tr>\n",
       "    <tr>\n",
       "      <th>143019</th>\n",
       "      <td>143019</td>\n",
       "      <td>519</td>\n",
       "      <td>2</td>\n",
       "      <td>29</td>\n",
       "      <td>11</td>\n",
       "      <td>0.739583</td>\n",
       "      <td>0.940972</td>\n",
       "      <td>1.000000</td>\n",
       "      <td>0.944444</td>\n",
       "      <td>0.809028</td>\n",
       "    </tr>\n",
       "    <tr>\n",
       "      <th>143020</th>\n",
       "      <td>143020</td>\n",
       "      <td>519</td>\n",
       "      <td>2</td>\n",
       "      <td>29</td>\n",
       "      <td>16</td>\n",
       "      <td>0.795139</td>\n",
       "      <td>0.819444</td>\n",
       "      <td>0.888889</td>\n",
       "      <td>0.899306</td>\n",
       "      <td>0.975694</td>\n",
       "    </tr>\n",
       "    <tr>\n",
       "      <th>143021</th>\n",
       "      <td>143021</td>\n",
       "      <td>519</td>\n",
       "      <td>2</td>\n",
       "      <td>29</td>\n",
       "      <td>21</td>\n",
       "      <td>0.958333</td>\n",
       "      <td>0.892361</td>\n",
       "      <td>0.770833</td>\n",
       "      <td>0.756944</td>\n",
       "      <td>0.760417</td>\n",
       "    </tr>\n",
       "  </tbody>\n",
       "</table>\n",
       "<p>143022 rows × 10 columns</p>\n",
       "</div>"
      ],
      "text/plain": [
       "         index  station_id  month  day  hour     ctx_4     ctx_3     ctx_2  \\\n",
       "0            0           1      1    1     5  0.781481  0.677778  0.696296   \n",
       "1            1           1      1    1    10  0.737374  0.711111  0.711111   \n",
       "2            2           1      1    1    15  0.827778  0.896296  0.901852   \n",
       "3            3           1      1    1    20  0.825926  0.874074  0.927778   \n",
       "4            4           1      1    2     1  0.712963  0.777778  0.814815   \n",
       "...        ...         ...    ...  ...   ...       ...       ...       ...   \n",
       "143017  143017         519      2   29     1  0.666667  0.628788  0.544872   \n",
       "143018  143018         519      2   29     6  0.458333  0.458333  0.465278   \n",
       "143019  143019         519      2   29    11  0.739583  0.940972  1.000000   \n",
       "143020  143020         519      2   29    16  0.795139  0.819444  0.888889   \n",
       "143021  143021         519      2   29    21  0.958333  0.892361  0.770833   \n",
       "\n",
       "           ctx_1  percentage_docks_available  \n",
       "0       0.750000                    0.757265  \n",
       "1       0.731624                    0.825926  \n",
       "2       0.883333                    0.857407  \n",
       "3       0.918519                    0.833333  \n",
       "4       0.790741                    0.800000  \n",
       "...          ...                         ...  \n",
       "143017  0.486111                    0.482639  \n",
       "143018  0.555556                    0.659722  \n",
       "143019  0.944444                    0.809028  \n",
       "143020  0.899306                    0.975694  \n",
       "143021  0.756944                    0.760417  \n",
       "\n",
       "[143022 rows x 10 columns]"
      ]
     },
     "execution_count": 121,
     "metadata": {},
     "output_type": "execute_result"
    }
   ],
   "source": [
    "path = \"/Users/ulises.rey/local_code/ub-bicing-capstone-project/data/processed/groupby/stations_final_2024.csv\"\n",
    "df = pd.read_csv(path)\n",
    "df"
   ]
  },
  {
   "cell_type": "code",
   "execution_count": 122,
   "id": "8280bb92-d832-4309-8563-fdf1dea39885",
   "metadata": {},
   "outputs": [],
   "source": [
    "df.dropna(inplace=True)"
   ]
  },
  {
   "cell_type": "code",
   "execution_count": 125,
   "id": "dc37e4b8-06cf-4b29-8b70-f8018c1483cb",
   "metadata": {},
   "outputs": [],
   "source": [
    "df.rename(columns=lambda x: x.replace('ctx_', 'ctx-'), inplace=True)"
   ]
  },
  {
   "cell_type": "code",
   "execution_count": 126,
   "id": "0e1994e8-8633-47fd-a92e-99cbf4e62865",
   "metadata": {},
   "outputs": [
    {
     "data": {
      "text/plain": [
       "Index(['index', 'station_id', 'month', 'day', 'hour', 'ctx-4', 'ctx-3',\n",
       "       'ctx-2', 'ctx-1', 'percentage_docks_available'],\n",
       "      dtype='object')"
      ]
     },
     "execution_count": 126,
     "metadata": {},
     "output_type": "execute_result"
    }
   ],
   "source": [
    "df.columns"
   ]
  },
  {
   "cell_type": "code",
   "execution_count": 127,
   "id": "2638be7b-ccef-44f9-a22d-c422c6bd08dd",
   "metadata": {},
   "outputs": [],
   "source": [
    "X = df[['ctx-4', 'ctx-3', 'ctx-2', 'ctx-1']] # df[['station_id', 'month', 'day', 'hour', 'ctx-4', 'ctx-3', 'ctx-2', 'ctx-1']]\n",
    "y = df['percentage_docks_available']"
   ]
  },
  {
   "cell_type": "code",
   "execution_count": 128,
   "id": "544b5b60-1f47-42ae-89cf-b713518b4d0d",
   "metadata": {},
   "outputs": [],
   "source": [
    "X_train, X_test, y_train, y_test = train_test_split(X, y, test_size=0.2)"
   ]
  },
  {
   "cell_type": "code",
   "execution_count": 129,
   "id": "01b2a081-8445-4ba3-be16-eb471e7ba7a1",
   "metadata": {},
   "outputs": [
    {
     "data": {
      "text/html": [
       "<div>\n",
       "<style scoped>\n",
       "    .dataframe tbody tr th:only-of-type {\n",
       "        vertical-align: middle;\n",
       "    }\n",
       "\n",
       "    .dataframe tbody tr th {\n",
       "        vertical-align: top;\n",
       "    }\n",
       "\n",
       "    .dataframe thead th {\n",
       "        text-align: right;\n",
       "    }\n",
       "</style>\n",
       "<table border=\"1\" class=\"dataframe\">\n",
       "  <thead>\n",
       "    <tr style=\"text-align: right;\">\n",
       "      <th></th>\n",
       "      <th>ctx-4</th>\n",
       "      <th>ctx-3</th>\n",
       "      <th>ctx-2</th>\n",
       "      <th>ctx-1</th>\n",
       "    </tr>\n",
       "  </thead>\n",
       "  <tbody>\n",
       "    <tr>\n",
       "      <th>31544</th>\n",
       "      <td>0.333333</td>\n",
       "      <td>0.333333</td>\n",
       "      <td>0.333333</td>\n",
       "      <td>0.599206</td>\n",
       "    </tr>\n",
       "    <tr>\n",
       "      <th>9621</th>\n",
       "      <td>0.051282</td>\n",
       "      <td>0.082251</td>\n",
       "      <td>0.079365</td>\n",
       "      <td>0.257937</td>\n",
       "    </tr>\n",
       "    <tr>\n",
       "      <th>7637</th>\n",
       "      <td>0.460145</td>\n",
       "      <td>0.521739</td>\n",
       "      <td>0.416667</td>\n",
       "      <td>0.431438</td>\n",
       "    </tr>\n",
       "    <tr>\n",
       "      <th>109374</th>\n",
       "      <td>0.786458</td>\n",
       "      <td>0.815104</td>\n",
       "      <td>0.822917</td>\n",
       "      <td>0.841146</td>\n",
       "    </tr>\n",
       "    <tr>\n",
       "      <th>131326</th>\n",
       "      <td>0.897436</td>\n",
       "      <td>0.894231</td>\n",
       "      <td>0.897436</td>\n",
       "      <td>0.910256</td>\n",
       "    </tr>\n",
       "    <tr>\n",
       "      <th>...</th>\n",
       "      <td>...</td>\n",
       "      <td>...</td>\n",
       "      <td>...</td>\n",
       "      <td>...</td>\n",
       "    </tr>\n",
       "    <tr>\n",
       "      <th>26174</th>\n",
       "      <td>0.629167</td>\n",
       "      <td>0.129167</td>\n",
       "      <td>0.362500</td>\n",
       "      <td>0.800000</td>\n",
       "    </tr>\n",
       "    <tr>\n",
       "      <th>124461</th>\n",
       "      <td>0.737892</td>\n",
       "      <td>0.692593</td>\n",
       "      <td>0.671296</td>\n",
       "      <td>0.666667</td>\n",
       "    </tr>\n",
       "    <tr>\n",
       "      <th>107175</th>\n",
       "      <td>0.501684</td>\n",
       "      <td>0.481481</td>\n",
       "      <td>0.518519</td>\n",
       "      <td>0.518519</td>\n",
       "    </tr>\n",
       "    <tr>\n",
       "      <th>132441</th>\n",
       "      <td>0.932692</td>\n",
       "      <td>0.919872</td>\n",
       "      <td>0.884615</td>\n",
       "      <td>0.846154</td>\n",
       "    </tr>\n",
       "    <tr>\n",
       "      <th>6017</th>\n",
       "      <td>0.851852</td>\n",
       "      <td>0.836420</td>\n",
       "      <td>0.814815</td>\n",
       "      <td>0.805556</td>\n",
       "    </tr>\n",
       "  </tbody>\n",
       "</table>\n",
       "<p>114088 rows × 4 columns</p>\n",
       "</div>"
      ],
      "text/plain": [
       "           ctx-4     ctx-3     ctx-2     ctx-1\n",
       "31544   0.333333  0.333333  0.333333  0.599206\n",
       "9621    0.051282  0.082251  0.079365  0.257937\n",
       "7637    0.460145  0.521739  0.416667  0.431438\n",
       "109374  0.786458  0.815104  0.822917  0.841146\n",
       "131326  0.897436  0.894231  0.897436  0.910256\n",
       "...          ...       ...       ...       ...\n",
       "26174   0.629167  0.129167  0.362500  0.800000\n",
       "124461  0.737892  0.692593  0.671296  0.666667\n",
       "107175  0.501684  0.481481  0.518519  0.518519\n",
       "132441  0.932692  0.919872  0.884615  0.846154\n",
       "6017    0.851852  0.836420  0.814815  0.805556\n",
       "\n",
       "[114088 rows x 4 columns]"
      ]
     },
     "execution_count": 129,
     "metadata": {},
     "output_type": "execute_result"
    }
   ],
   "source": [
    "X_train"
   ]
  },
  {
   "cell_type": "code",
   "execution_count": 130,
   "id": "8b5c6d67-8a03-43d9-bb9c-24323c4da47c",
   "metadata": {},
   "outputs": [
    {
     "data": {
      "text/plain": [
       "31544     0.884921\n",
       "9621      0.329365\n",
       "7637      0.162055\n",
       "109374    0.908854\n",
       "131326    0.849359\n",
       "            ...   \n",
       "26174     1.037500\n",
       "124461    0.666667\n",
       "107175    0.518519\n",
       "132441    0.846154\n",
       "6017      0.799383\n",
       "Name: percentage_docks_available, Length: 114088, dtype: float64"
      ]
     },
     "execution_count": 130,
     "metadata": {},
     "output_type": "execute_result"
    }
   ],
   "source": [
    "y_train"
   ]
  },
  {
   "cell_type": "code",
   "execution_count": 131,
   "id": "a923a016-f762-4d5b-8d60-6393b1105dd8",
   "metadata": {},
   "outputs": [
    {
     "data": {
      "text/plain": [
       "(array([9.4930e+03, 1.3194e+04, 1.9200e+04, 2.5162e+04, 2.9245e+04,\n",
       "        1.7423e+04, 1.5200e+02, 1.1900e+02, 9.1000e+01, 9.0000e+00]),\n",
       " array([0.        , 0.17179487, 0.34358974, 0.51538462, 0.68717949,\n",
       "        0.85897436, 1.03076923, 1.2025641 , 1.37435897, 1.54615385,\n",
       "        1.71794872]),\n",
       " <BarContainer object of 10 artists>)"
      ]
     },
     "execution_count": 131,
     "metadata": {},
     "output_type": "execute_result"
    },
    {
     "data": {
      "image/png": "[encoded data removed]",
      "text/plain": [
       "<Figure size 640x480 with 1 Axes>"
      ]
     },
     "metadata": {},
     "output_type": "display_data"
    }
   ],
   "source": [
    "plt.hist(y_train)"
   ]
  },
  {
   "cell_type": "markdown",
   "id": "d1b71238-8f31-4198-afb5-b618e4612fa1",
   "metadata": {},
   "source": [
    "Hay valores de ocupacion superiores a 1. Habria que corregirlo?"
   ]
  },
  {
   "cell_type": "code",
   "execution_count": 132,
   "id": "ee32bd91-cd8c-4fae-8dcb-3092edc0d567",
   "metadata": {},
   "outputs": [
    {
     "data": {
      "text/html": [
       "<style>#sk-container-id-4 {color: black;background-color: white;}#sk-container-id-4 pre{padding: 0;}#sk-container-id-4 div.sk-toggleable {background-color: white;}#sk-container-id-4 label.sk-toggleable__label {cursor: pointer;display: block;width: 100%;margin-bottom: 0;padding: 0.3em;box-sizing: border-box;text-align: center;}#sk-container-id-4 label.sk-toggleable__label-arrow:before {content: \"▸\";float: left;margin-right: 0.25em;color: #696969;}#sk-container-id-4 label.sk-toggleable__label-arrow:hover:before {color: black;}#sk-container-id-4 div.sk-estimator:hover label.sk-toggleable__label-arrow:before {color: black;}#sk-container-id-4 div.sk-toggleable__content {max-height: 0;max-width: 0;overflow: hidden;text-align: left;background-color: #f0f8ff;}#sk-container-id-4 div.sk-toggleable__content pre {margin: 0.2em;color: black;border-radius: 0.25em;background-color: #f0f8ff;}#sk-container-id-4 input.sk-toggleable__control:checked~div.sk-toggleable__content {max-height: 200px;max-width: 100%;overflow: auto;}#sk-container-id-4 input.sk-toggleable__control:checked~label.sk-toggleable__label-arrow:before {content: \"▾\";}#sk-container-id-4 div.sk-estimator input.sk-toggleable__control:checked~label.sk-toggleable__label {background-color: #d4ebff;}#sk-container-id-4 div.sk-label input.sk-toggleable__control:checked~label.sk-toggleable__label {background-color: #d4ebff;}#sk-container-id-4 input.sk-hidden--visually {border: 0;clip: rect(1px 1px 1px 1px);clip: rect(1px, 1px, 1px, 1px);height: 1px;margin: -1px;overflow: hidden;padding: 0;position: absolute;width: 1px;}#sk-container-id-4 div.sk-estimator {font-family: monospace;background-color: #f0f8ff;border: 1px dotted black;border-radius: 0.25em;box-sizing: border-box;margin-bottom: 0.5em;}#sk-container-id-4 div.sk-estimator:hover {background-color: #d4ebff;}#sk-container-id-4 div.sk-parallel-item::after {content: \"\";width: 100%;border-bottom: 1px solid gray;flex-grow: 1;}#sk-container-id-4 div.sk-label:hover label.sk-toggleable__label {background-color: #d4ebff;}#sk-container-id-4 div.sk-serial::before {content: \"\";position: absolute;border-left: 1px solid gray;box-sizing: border-box;top: 0;bottom: 0;left: 50%;z-index: 0;}#sk-container-id-4 div.sk-serial {display: flex;flex-direction: column;align-items: center;background-color: white;padding-right: 0.2em;padding-left: 0.2em;position: relative;}#sk-container-id-4 div.sk-item {position: relative;z-index: 1;}#sk-container-id-4 div.sk-parallel {display: flex;align-items: stretch;justify-content: center;background-color: white;position: relative;}#sk-container-id-4 div.sk-item::before, #sk-container-id-4 div.sk-parallel-item::before {content: \"\";position: absolute;border-left: 1px solid gray;box-sizing: border-box;top: 0;bottom: 0;left: 50%;z-index: -1;}#sk-container-id-4 div.sk-parallel-item {display: flex;flex-direction: column;z-index: 1;position: relative;background-color: white;}#sk-container-id-4 div.sk-parallel-item:first-child::after {align-self: flex-end;width: 50%;}#sk-container-id-4 div.sk-parallel-item:last-child::after {align-self: flex-start;width: 50%;}#sk-container-id-4 div.sk-parallel-item:only-child::after {width: 0;}#sk-container-id-4 div.sk-dashed-wrapped {border: 1px dashed gray;margin: 0 0.4em 0.5em 0.4em;box-sizing: border-box;padding-bottom: 0.4em;background-color: white;}#sk-container-id-4 div.sk-label label {font-family: monospace;font-weight: bold;display: inline-block;line-height: 1.2em;}#sk-container-id-4 div.sk-label-container {text-align: center;}#sk-container-id-4 div.sk-container {/* jupyter's `normalize.less` sets `[hidden] { display: none; }` but bootstrap.min.css set `[hidden] { display: none !important; }` so we also need the `!important` here to be able to override the default hidden behavior on the sphinx rendered scikit-learn.org. See: https://github.com/scikit-learn/scikit-learn/issues/21755 */display: inline-block !important;position: relative;}#sk-container-id-4 div.sk-text-repr-fallback {display: none;}</style><div id=\"sk-container-id-4\" class=\"sk-top-container\"><div class=\"sk-text-repr-fallback\"><pre>LinearRegression()</pre><b>In a Jupyter environment, please rerun this cell to show the HTML representation or trust the notebook. <br />On GitHub, the HTML representation is unable to render, please try loading this page with nbviewer.org.</b></div><div class=\"sk-container\" hidden><div class=\"sk-item\"><div class=\"sk-estimator sk-toggleable\"><input class=\"sk-toggleable__control sk-hidden--visually\" id=\"sk-estimator-id-4\" type=\"checkbox\" checked><label for=\"sk-estimator-id-4\" class=\"sk-toggleable__label sk-toggleable__label-arrow\">LinearRegression</label><div class=\"sk-toggleable__content\"><pre>LinearRegression()</pre></div></div></div></div></div>"
      ],
      "text/plain": [
       "LinearRegression()"
      ]
     },
     "execution_count": 132,
     "metadata": {},
     "output_type": "execute_result"
    }
   ],
   "source": [
    "from sklearn.linear_model import LinearRegression\n",
    "\n",
    "ln_reg = LinearRegression()\n",
    "\n",
    "ln_reg.fit(X_train, y_train)"
   ]
  },
  {
   "cell_type": "code",
   "execution_count": 99,
   "id": "a595f370-1e4d-4738-af67-463aa5b52b24",
   "metadata": {},
   "outputs": [],
   "source": [
    "from sklearn.metrics import mean_absolute_error, mean_squared_error, r2_score"
   ]
  },
  {
   "cell_type": "code",
   "execution_count": 133,
   "id": "dc30e3f9-5c39-493b-b99c-d5bfd41a759f",
   "metadata": {},
   "outputs": [],
   "source": [
    "y_pred = ln_reg.predict(X_test)"
   ]
  },
  {
   "cell_type": "code",
   "execution_count": 134,
   "id": "dd72d86c-9b6c-4474-ba4b-588b29fa6f71",
   "metadata": {},
   "outputs": [
    {
     "data": {
      "image/png": "[encoded data removed]",
      "text/plain": [
       "<Figure size 640x480 with 1 Axes>"
      ]
     },
     "metadata": {},
     "output_type": "display_data"
    }
   ],
   "source": [
    "plt.scatter(y_test, y_pred)\n",
    "\n",
    "plt.show()"
   ]
  },
  {
   "cell_type": "code",
   "execution_count": 135,
   "id": "ba79f7ec-d205-4b05-8686-3a36a538cc95",
   "metadata": {},
   "outputs": [
    {
     "data": {
      "text/plain": [
       "0.8226181739393933"
      ]
     },
     "execution_count": 135,
     "metadata": {},
     "output_type": "execute_result"
    }
   ],
   "source": [
    "score = r2_score(y_test, y_pred)\n",
    "score"
   ]
  },
  {
   "cell_type": "code",
   "execution_count": 136,
   "id": "1e118866-f1b9-4bdb-b0d7-11fbf79cf8d8",
   "metadata": {},
   "outputs": [],
   "source": [
    "metadata_sample_submission_df = pd.read_csv(\"/Users/ulises.rey/local_code/ub-bicing-capstone-project/data/external/metadata_sample_submission_2024 2.csv\")"
   ]
  },
  {
   "cell_type": "code",
   "execution_count": 137,
   "id": "15d7dabe-3b04-4d0f-821a-b8b193e195c9",
   "metadata": {},
   "outputs": [
    {
     "data": {
      "text/html": [
       "<div>\n",
       "<style scoped>\n",
       "    .dataframe tbody tr th:only-of-type {\n",
       "        vertical-align: middle;\n",
       "    }\n",
       "\n",
       "    .dataframe tbody tr th {\n",
       "        vertical-align: top;\n",
       "    }\n",
       "\n",
       "    .dataframe thead th {\n",
       "        text-align: right;\n",
       "    }\n",
       "</style>\n",
       "<table border=\"1\" class=\"dataframe\">\n",
       "  <thead>\n",
       "    <tr style=\"text-align: right;\">\n",
       "      <th></th>\n",
       "      <th>index</th>\n",
       "      <th>station_id</th>\n",
       "      <th>month</th>\n",
       "      <th>day</th>\n",
       "      <th>hour</th>\n",
       "      <th>ctx-4</th>\n",
       "      <th>ctx-3</th>\n",
       "      <th>ctx-2</th>\n",
       "      <th>ctx-1</th>\n",
       "    </tr>\n",
       "  </thead>\n",
       "  <tbody>\n",
       "    <tr>\n",
       "      <th>0</th>\n",
       "      <td>0</td>\n",
       "      <td>1</td>\n",
       "      <td>1</td>\n",
       "      <td>1</td>\n",
       "      <td>5</td>\n",
       "      <td>0.781481</td>\n",
       "      <td>0.677778</td>\n",
       "      <td>0.696296</td>\n",
       "      <td>0.750000</td>\n",
       "    </tr>\n",
       "    <tr>\n",
       "      <th>1</th>\n",
       "      <td>1</td>\n",
       "      <td>1</td>\n",
       "      <td>1</td>\n",
       "      <td>1</td>\n",
       "      <td>10</td>\n",
       "      <td>0.737374</td>\n",
       "      <td>0.711111</td>\n",
       "      <td>0.711111</td>\n",
       "      <td>0.731624</td>\n",
       "    </tr>\n",
       "    <tr>\n",
       "      <th>2</th>\n",
       "      <td>2</td>\n",
       "      <td>1</td>\n",
       "      <td>1</td>\n",
       "      <td>1</td>\n",
       "      <td>15</td>\n",
       "      <td>0.827778</td>\n",
       "      <td>0.896296</td>\n",
       "      <td>0.901852</td>\n",
       "      <td>0.883333</td>\n",
       "    </tr>\n",
       "    <tr>\n",
       "      <th>3</th>\n",
       "      <td>3</td>\n",
       "      <td>1</td>\n",
       "      <td>1</td>\n",
       "      <td>1</td>\n",
       "      <td>20</td>\n",
       "      <td>0.825926</td>\n",
       "      <td>0.874074</td>\n",
       "      <td>0.927778</td>\n",
       "      <td>0.918519</td>\n",
       "    </tr>\n",
       "    <tr>\n",
       "      <th>4</th>\n",
       "      <td>4</td>\n",
       "      <td>2</td>\n",
       "      <td>1</td>\n",
       "      <td>1</td>\n",
       "      <td>3</td>\n",
       "      <td>0.592593</td>\n",
       "      <td>0.341954</td>\n",
       "      <td>0.275862</td>\n",
       "      <td>0.540230</td>\n",
       "    </tr>\n",
       "    <tr>\n",
       "      <th>...</th>\n",
       "      <td>...</td>\n",
       "      <td>...</td>\n",
       "      <td>...</td>\n",
       "      <td>...</td>\n",
       "      <td>...</td>\n",
       "      <td>...</td>\n",
       "      <td>...</td>\n",
       "      <td>...</td>\n",
       "      <td>...</td>\n",
       "    </tr>\n",
       "    <tr>\n",
       "      <th>171897</th>\n",
       "      <td>171897</td>\n",
       "      <td>496</td>\n",
       "      <td>3</td>\n",
       "      <td>31</td>\n",
       "      <td>1</td>\n",
       "      <td>0.828704</td>\n",
       "      <td>0.787037</td>\n",
       "      <td>0.777778</td>\n",
       "      <td>0.853535</td>\n",
       "    </tr>\n",
       "    <tr>\n",
       "      <th>171898</th>\n",
       "      <td>171898</td>\n",
       "      <td>496</td>\n",
       "      <td>3</td>\n",
       "      <td>31</td>\n",
       "      <td>6</td>\n",
       "      <td>0.930556</td>\n",
       "      <td>0.944444</td>\n",
       "      <td>0.935185</td>\n",
       "      <td>0.856481</td>\n",
       "    </tr>\n",
       "    <tr>\n",
       "      <th>171899</th>\n",
       "      <td>171899</td>\n",
       "      <td>496</td>\n",
       "      <td>3</td>\n",
       "      <td>31</td>\n",
       "      <td>11</td>\n",
       "      <td>0.912037</td>\n",
       "      <td>0.884259</td>\n",
       "      <td>0.518519</td>\n",
       "      <td>0.157407</td>\n",
       "    </tr>\n",
       "    <tr>\n",
       "      <th>171900</th>\n",
       "      <td>171900</td>\n",
       "      <td>496</td>\n",
       "      <td>3</td>\n",
       "      <td>31</td>\n",
       "      <td>16</td>\n",
       "      <td>0.245370</td>\n",
       "      <td>0.319444</td>\n",
       "      <td>0.277778</td>\n",
       "      <td>0.305556</td>\n",
       "    </tr>\n",
       "    <tr>\n",
       "      <th>171901</th>\n",
       "      <td>171901</td>\n",
       "      <td>496</td>\n",
       "      <td>3</td>\n",
       "      <td>31</td>\n",
       "      <td>21</td>\n",
       "      <td>0.513889</td>\n",
       "      <td>0.435185</td>\n",
       "      <td>0.490741</td>\n",
       "      <td>0.504630</td>\n",
       "    </tr>\n",
       "  </tbody>\n",
       "</table>\n",
       "<p>171902 rows × 9 columns</p>\n",
       "</div>"
      ],
      "text/plain": [
       "         index  station_id  month  day  hour     ctx-4     ctx-3     ctx-2  \\\n",
       "0            0           1      1    1     5  0.781481  0.677778  0.696296   \n",
       "1            1           1      1    1    10  0.737374  0.711111  0.711111   \n",
       "2            2           1      1    1    15  0.827778  0.896296  0.901852   \n",
       "3            3           1      1    1    20  0.825926  0.874074  0.927778   \n",
       "4            4           2      1    1     3  0.592593  0.341954  0.275862   \n",
       "...        ...         ...    ...  ...   ...       ...       ...       ...   \n",
       "171897  171897         496      3   31     1  0.828704  0.787037  0.777778   \n",
       "171898  171898         496      3   31     6  0.930556  0.944444  0.935185   \n",
       "171899  171899         496      3   31    11  0.912037  0.884259  0.518519   \n",
       "171900  171900         496      3   31    16  0.245370  0.319444  0.277778   \n",
       "171901  171901         496      3   31    21  0.513889  0.435185  0.490741   \n",
       "\n",
       "           ctx-1  \n",
       "0       0.750000  \n",
       "1       0.731624  \n",
       "2       0.883333  \n",
       "3       0.918519  \n",
       "4       0.540230  \n",
       "...          ...  \n",
       "171897  0.853535  \n",
       "171898  0.856481  \n",
       "171899  0.157407  \n",
       "171900  0.305556  \n",
       "171901  0.504630  \n",
       "\n",
       "[171902 rows x 9 columns]"
      ]
     },
     "execution_count": 137,
     "metadata": {},
     "output_type": "execute_result"
    }
   ],
   "source": [
    "metadata_sample_submission_df"
   ]
  },
  {
   "cell_type": "code",
   "execution_count": 138,
   "id": "4d85c440-2a3b-4bda-bc71-abb54fe27f05",
   "metadata": {},
   "outputs": [],
   "source": [
    "sample_submission_df = pd.read_csv(\"/Users/ulises.rey/local_code/ub-bicing-capstone-project/data/external/sample_submission_2024.csv\")"
   ]
  },
  {
   "cell_type": "code",
   "execution_count": 139,
   "id": "08afbe2c-1a25-46a3-af9b-1a70bbf9df93",
   "metadata": {},
   "outputs": [
    {
     "data": {
      "text/html": [
       "<div>\n",
       "<style scoped>\n",
       "    .dataframe tbody tr th:only-of-type {\n",
       "        vertical-align: middle;\n",
       "    }\n",
       "\n",
       "    .dataframe tbody tr th {\n",
       "        vertical-align: top;\n",
       "    }\n",
       "\n",
       "    .dataframe thead th {\n",
       "        text-align: right;\n",
       "    }\n",
       "</style>\n",
       "<table border=\"1\" class=\"dataframe\">\n",
       "  <thead>\n",
       "    <tr style=\"text-align: right;\">\n",
       "      <th></th>\n",
       "      <th>index</th>\n",
       "      <th>percentage_docks_available</th>\n",
       "    </tr>\n",
       "  </thead>\n",
       "  <tbody>\n",
       "    <tr>\n",
       "      <th>0</th>\n",
       "      <td>0</td>\n",
       "      <td>0.228074</td>\n",
       "    </tr>\n",
       "    <tr>\n",
       "      <th>1</th>\n",
       "      <td>1</td>\n",
       "      <td>0.776294</td>\n",
       "    </tr>\n",
       "    <tr>\n",
       "      <th>2</th>\n",
       "      <td>2</td>\n",
       "      <td>0.485480</td>\n",
       "    </tr>\n",
       "    <tr>\n",
       "      <th>3</th>\n",
       "      <td>3</td>\n",
       "      <td>0.405185</td>\n",
       "    </tr>\n",
       "    <tr>\n",
       "      <th>4</th>\n",
       "      <td>4</td>\n",
       "      <td>0.773393</td>\n",
       "    </tr>\n",
       "    <tr>\n",
       "      <th>...</th>\n",
       "      <td>...</td>\n",
       "      <td>...</td>\n",
       "    </tr>\n",
       "    <tr>\n",
       "      <th>171897</th>\n",
       "      <td>171897</td>\n",
       "      <td>0.870746</td>\n",
       "    </tr>\n",
       "    <tr>\n",
       "      <th>171898</th>\n",
       "      <td>171898</td>\n",
       "      <td>0.874182</td>\n",
       "    </tr>\n",
       "    <tr>\n",
       "      <th>171899</th>\n",
       "      <td>171899</td>\n",
       "      <td>0.284646</td>\n",
       "    </tr>\n",
       "    <tr>\n",
       "      <th>171900</th>\n",
       "      <td>171900</td>\n",
       "      <td>0.684282</td>\n",
       "    </tr>\n",
       "    <tr>\n",
       "      <th>171901</th>\n",
       "      <td>171901</td>\n",
       "      <td>0.299685</td>\n",
       "    </tr>\n",
       "  </tbody>\n",
       "</table>\n",
       "<p>171902 rows × 2 columns</p>\n",
       "</div>"
      ],
      "text/plain": [
       "         index  percentage_docks_available\n",
       "0            0                    0.228074\n",
       "1            1                    0.776294\n",
       "2            2                    0.485480\n",
       "3            3                    0.405185\n",
       "4            4                    0.773393\n",
       "...        ...                         ...\n",
       "171897  171897                    0.870746\n",
       "171898  171898                    0.874182\n",
       "171899  171899                    0.284646\n",
       "171900  171900                    0.684282\n",
       "171901  171901                    0.299685\n",
       "\n",
       "[171902 rows x 2 columns]"
      ]
     },
     "execution_count": 139,
     "metadata": {},
     "output_type": "execute_result"
    }
   ],
   "source": [
    "sample_submission_df"
   ]
  },
  {
   "cell_type": "code",
   "execution_count": 140,
   "id": "0c84dfbf-bb90-4c7f-b6df-8012839417d3",
   "metadata": {},
   "outputs": [
    {
     "data": {
      "text/plain": [
       "Index(['index', 'station_id', 'month', 'day', 'hour', 'ctx-4', 'ctx-3',\n",
       "       'ctx-2', 'ctx-1'],\n",
       "      dtype='object')"
      ]
     },
     "execution_count": 140,
     "metadata": {},
     "output_type": "execute_result"
    }
   ],
   "source": [
    "metadata_sample_submission_df.columns"
   ]
  },
  {
   "cell_type": "code",
   "execution_count": 143,
   "id": "9fc14141-14cf-4233-ab4d-20c771883b9f",
   "metadata": {},
   "outputs": [],
   "source": [
    "#X_sample = metadata_sample_submission_df[['station_id', 'month', 'day', 'hour', 'ctx-4', 'ctx-3', 'ctx-2', 'ctx-1']]\n",
    "X_sample = metadata_sample_submission_df[['ctx-4', 'ctx-3', 'ctx-2', 'ctx-1']]\n",
    "y_sample = sample_submission_df['percentage_docks_available']"
   ]
  },
  {
   "cell_type": "code",
   "execution_count": 144,
   "id": "6b6ad3fc-cc72-43ac-bdfb-6befa95396c6",
   "metadata": {},
   "outputs": [],
   "source": [
    "y_sample_pred = ln_reg.predict(X_sample)"
   ]
  },
  {
   "cell_type": "code",
   "execution_count": 145,
   "id": "fd87457e-484a-4f34-b6c0-771775b7c9da",
   "metadata": {},
   "outputs": [
    {
     "data": {
      "image/png": "[encoded data removed]",
      "text/plain": [
       "<Figure size 640x480 with 1 Axes>"
      ]
     },
     "metadata": {},
     "output_type": "display_data"
    }
   ],
   "source": [
    "plt.scatter(y_sample, y_sample_pred)\n",
    "plt.show()"
   ]
  },
  {
   "cell_type": "code",
   "execution_count": 146,
   "id": "4f598558-34e9-4309-b9e5-b15094bf1daa",
   "metadata": {},
   "outputs": [],
   "source": [
    "from sklearn.metrics import mean_absolute_error, mean_squared_error, r2_score"
   ]
  },
  {
   "cell_type": "code",
   "execution_count": 147,
   "id": "eac86180-29f2-43e2-91a8-4f5c7cf52ac5",
   "metadata": {},
   "outputs": [
    {
     "data": {
      "text/plain": [
       "-0.7216877997409041"
      ]
     },
     "execution_count": 147,
     "metadata": {},
     "output_type": "execute_result"
    }
   ],
   "source": [
    "score = r2_score(y_sample, y_sample_pred)\n",
    "score"
   ]
  },
  {
   "cell_type": "code",
   "execution_count": 148,
   "id": "331282a7-e3a8-4c75-a51a-0c3410b13a9d",
   "metadata": {},
   "outputs": [
    {
     "data": {
      "text/html": [
       "<div>\n",
       "<style scoped>\n",
       "    .dataframe tbody tr th:only-of-type {\n",
       "        vertical-align: middle;\n",
       "    }\n",
       "\n",
       "    .dataframe tbody tr th {\n",
       "        vertical-align: top;\n",
       "    }\n",
       "\n",
       "    .dataframe thead th {\n",
       "        text-align: right;\n",
       "    }\n",
       "</style>\n",
       "<table border=\"1\" class=\"dataframe\">\n",
       "  <thead>\n",
       "    <tr style=\"text-align: right;\">\n",
       "      <th></th>\n",
       "      <th>percentage_docks_available</th>\n",
       "    </tr>\n",
       "  </thead>\n",
       "  <tbody>\n",
       "    <tr>\n",
       "      <th>0</th>\n",
       "      <td>0.739304</td>\n",
       "    </tr>\n",
       "    <tr>\n",
       "      <th>1</th>\n",
       "      <td>0.718500</td>\n",
       "    </tr>\n",
       "    <tr>\n",
       "      <th>2</th>\n",
       "      <td>0.845656</td>\n",
       "    </tr>\n",
       "    <tr>\n",
       "      <th>3</th>\n",
       "      <td>0.876247</td>\n",
       "    </tr>\n",
       "    <tr>\n",
       "      <th>4</th>\n",
       "      <td>0.602077</td>\n",
       "    </tr>\n",
       "    <tr>\n",
       "      <th>...</th>\n",
       "      <td>...</td>\n",
       "    </tr>\n",
       "    <tr>\n",
       "      <th>171897</th>\n",
       "      <td>0.838448</td>\n",
       "    </tr>\n",
       "    <tr>\n",
       "      <th>171898</th>\n",
       "      <td>0.807188</td>\n",
       "    </tr>\n",
       "    <tr>\n",
       "      <th>171899</th>\n",
       "      <td>0.139816</td>\n",
       "    </tr>\n",
       "    <tr>\n",
       "      <th>171900</th>\n",
       "      <td>0.349613</td>\n",
       "    </tr>\n",
       "    <tr>\n",
       "      <th>171901</th>\n",
       "      <td>0.513368</td>\n",
       "    </tr>\n",
       "  </tbody>\n",
       "</table>\n",
       "<p>171902 rows × 1 columns</p>\n",
       "</div>"
      ],
      "text/plain": [
       "        percentage_docks_available\n",
       "0                         0.739304\n",
       "1                         0.718500\n",
       "2                         0.845656\n",
       "3                         0.876247\n",
       "4                         0.602077\n",
       "...                            ...\n",
       "171897                    0.838448\n",
       "171898                    0.807188\n",
       "171899                    0.139816\n",
       "171900                    0.349613\n",
       "171901                    0.513368\n",
       "\n",
       "[171902 rows x 1 columns]"
      ]
     },
     "execution_count": 148,
     "metadata": {},
     "output_type": "execute_result"
    }
   ],
   "source": [
    "prediction_df = pd.DataFrame(y_sample_pred, columns=[\"percentage_docks_available\"])\n",
    "prediction_df"
   ]
  },
  {
   "cell_type": "code",
   "execution_count": 149,
   "id": "d7ecfea1-f69a-44b5-866e-a2c2b13a7480",
   "metadata": {},
   "outputs": [],
   "source": [
    "prediction_df.index.name=\"index\""
   ]
  },
  {
   "cell_type": "code",
   "execution_count": 150,
   "id": "5de76611-f892-4a70-9e00-8fcee4df08d5",
   "metadata": {},
   "outputs": [
    {
     "data": {
      "text/html": [
       "<div>\n",
       "<style scoped>\n",
       "    .dataframe tbody tr th:only-of-type {\n",
       "        vertical-align: middle;\n",
       "    }\n",
       "\n",
       "    .dataframe tbody tr th {\n",
       "        vertical-align: top;\n",
       "    }\n",
       "\n",
       "    .dataframe thead th {\n",
       "        text-align: right;\n",
       "    }\n",
       "</style>\n",
       "<table border=\"1\" class=\"dataframe\">\n",
       "  <thead>\n",
       "    <tr style=\"text-align: right;\">\n",
       "      <th></th>\n",
       "      <th>percentage_docks_available</th>\n",
       "    </tr>\n",
       "    <tr>\n",
       "      <th>index</th>\n",
       "      <th></th>\n",
       "    </tr>\n",
       "  </thead>\n",
       "  <tbody>\n",
       "    <tr>\n",
       "      <th>0</th>\n",
       "      <td>0.739304</td>\n",
       "    </tr>\n",
       "    <tr>\n",
       "      <th>1</th>\n",
       "      <td>0.718500</td>\n",
       "    </tr>\n",
       "    <tr>\n",
       "      <th>2</th>\n",
       "      <td>0.845656</td>\n",
       "    </tr>\n",
       "    <tr>\n",
       "      <th>3</th>\n",
       "      <td>0.876247</td>\n",
       "    </tr>\n",
       "    <tr>\n",
       "      <th>4</th>\n",
       "      <td>0.602077</td>\n",
       "    </tr>\n",
       "    <tr>\n",
       "      <th>...</th>\n",
       "      <td>...</td>\n",
       "    </tr>\n",
       "    <tr>\n",
       "      <th>171897</th>\n",
       "      <td>0.838448</td>\n",
       "    </tr>\n",
       "    <tr>\n",
       "      <th>171898</th>\n",
       "      <td>0.807188</td>\n",
       "    </tr>\n",
       "    <tr>\n",
       "      <th>171899</th>\n",
       "      <td>0.139816</td>\n",
       "    </tr>\n",
       "    <tr>\n",
       "      <th>171900</th>\n",
       "      <td>0.349613</td>\n",
       "    </tr>\n",
       "    <tr>\n",
       "      <th>171901</th>\n",
       "      <td>0.513368</td>\n",
       "    </tr>\n",
       "  </tbody>\n",
       "</table>\n",
       "<p>171902 rows × 1 columns</p>\n",
       "</div>"
      ],
      "text/plain": [
       "        percentage_docks_available\n",
       "index                             \n",
       "0                         0.739304\n",
       "1                         0.718500\n",
       "2                         0.845656\n",
       "3                         0.876247\n",
       "4                         0.602077\n",
       "...                            ...\n",
       "171897                    0.838448\n",
       "171898                    0.807188\n",
       "171899                    0.139816\n",
       "171900                    0.349613\n",
       "171901                    0.513368\n",
       "\n",
       "[171902 rows x 1 columns]"
      ]
     },
     "execution_count": 150,
     "metadata": {},
     "output_type": "execute_result"
    }
   ],
   "source": [
    "prediction_df"
   ]
  },
  {
   "cell_type": "code",
   "execution_count": 101,
   "id": "13d401e3-d83d-4c1f-9b9a-816d0d608ae7",
   "metadata": {},
   "outputs": [],
   "source": [
    "prediction_df.to_csv(\"/Users/ulises.rey/local_code/ub-bicing-capstone-project/data/prediction/first_prediction.csv\")"
   ]
  },
  {
   "cell_type": "markdown",
   "id": "76d60aaf-0048-4fa0-a082-ee6f8aef39b2",
   "metadata": {},
   "source": [
    "### Con su dataset"
   ]
  },
  {
   "cell_type": "code",
   "execution_count": 102,
   "id": "489760f7-af85-4601-9efa-f31a75692aa3",
   "metadata": {},
   "outputs": [],
   "source": [
    "path = \"/Users/ulises.rey/local_code/ub-bicing-capstone-project/data/external/metadata_sample_submission_2024 2.csv\"\n",
    "df = pd.read_csv(path)"
   ]
  },
  {
   "cell_type": "code",
   "execution_count": 103,
   "id": "834ce884-ae01-4102-8aba-74946d759899",
   "metadata": {},
   "outputs": [
    {
     "data": {
      "text/html": [
       "<div>\n",
       "<style scoped>\n",
       "    .dataframe tbody tr th:only-of-type {\n",
       "        vertical-align: middle;\n",
       "    }\n",
       "\n",
       "    .dataframe tbody tr th {\n",
       "        vertical-align: top;\n",
       "    }\n",
       "\n",
       "    .dataframe thead th {\n",
       "        text-align: right;\n",
       "    }\n",
       "</style>\n",
       "<table border=\"1\" class=\"dataframe\">\n",
       "  <thead>\n",
       "    <tr style=\"text-align: right;\">\n",
       "      <th></th>\n",
       "      <th>index</th>\n",
       "      <th>station_id</th>\n",
       "      <th>month</th>\n",
       "      <th>day</th>\n",
       "      <th>hour</th>\n",
       "      <th>ctx-4</th>\n",
       "      <th>ctx-3</th>\n",
       "      <th>ctx-2</th>\n",
       "      <th>ctx-1</th>\n",
       "    </tr>\n",
       "  </thead>\n",
       "  <tbody>\n",
       "    <tr>\n",
       "      <th>0</th>\n",
       "      <td>0</td>\n",
       "      <td>1</td>\n",
       "      <td>1</td>\n",
       "      <td>1</td>\n",
       "      <td>5</td>\n",
       "      <td>0.781481</td>\n",
       "      <td>0.677778</td>\n",
       "      <td>0.696296</td>\n",
       "      <td>0.750000</td>\n",
       "    </tr>\n",
       "    <tr>\n",
       "      <th>1</th>\n",
       "      <td>1</td>\n",
       "      <td>1</td>\n",
       "      <td>1</td>\n",
       "      <td>1</td>\n",
       "      <td>10</td>\n",
       "      <td>0.737374</td>\n",
       "      <td>0.711111</td>\n",
       "      <td>0.711111</td>\n",
       "      <td>0.731624</td>\n",
       "    </tr>\n",
       "    <tr>\n",
       "      <th>2</th>\n",
       "      <td>2</td>\n",
       "      <td>1</td>\n",
       "      <td>1</td>\n",
       "      <td>1</td>\n",
       "      <td>15</td>\n",
       "      <td>0.827778</td>\n",
       "      <td>0.896296</td>\n",
       "      <td>0.901852</td>\n",
       "      <td>0.883333</td>\n",
       "    </tr>\n",
       "    <tr>\n",
       "      <th>3</th>\n",
       "      <td>3</td>\n",
       "      <td>1</td>\n",
       "      <td>1</td>\n",
       "      <td>1</td>\n",
       "      <td>20</td>\n",
       "      <td>0.825926</td>\n",
       "      <td>0.874074</td>\n",
       "      <td>0.927778</td>\n",
       "      <td>0.918519</td>\n",
       "    </tr>\n",
       "    <tr>\n",
       "      <th>4</th>\n",
       "      <td>4</td>\n",
       "      <td>2</td>\n",
       "      <td>1</td>\n",
       "      <td>1</td>\n",
       "      <td>3</td>\n",
       "      <td>0.592593</td>\n",
       "      <td>0.341954</td>\n",
       "      <td>0.275862</td>\n",
       "      <td>0.540230</td>\n",
       "    </tr>\n",
       "    <tr>\n",
       "      <th>...</th>\n",
       "      <td>...</td>\n",
       "      <td>...</td>\n",
       "      <td>...</td>\n",
       "      <td>...</td>\n",
       "      <td>...</td>\n",
       "      <td>...</td>\n",
       "      <td>...</td>\n",
       "      <td>...</td>\n",
       "      <td>...</td>\n",
       "    </tr>\n",
       "    <tr>\n",
       "      <th>171897</th>\n",
       "      <td>171897</td>\n",
       "      <td>496</td>\n",
       "      <td>3</td>\n",
       "      <td>31</td>\n",
       "      <td>1</td>\n",
       "      <td>0.828704</td>\n",
       "      <td>0.787037</td>\n",
       "      <td>0.777778</td>\n",
       "      <td>0.853535</td>\n",
       "    </tr>\n",
       "    <tr>\n",
       "      <th>171898</th>\n",
       "      <td>171898</td>\n",
       "      <td>496</td>\n",
       "      <td>3</td>\n",
       "      <td>31</td>\n",
       "      <td>6</td>\n",
       "      <td>0.930556</td>\n",
       "      <td>0.944444</td>\n",
       "      <td>0.935185</td>\n",
       "      <td>0.856481</td>\n",
       "    </tr>\n",
       "    <tr>\n",
       "      <th>171899</th>\n",
       "      <td>171899</td>\n",
       "      <td>496</td>\n",
       "      <td>3</td>\n",
       "      <td>31</td>\n",
       "      <td>11</td>\n",
       "      <td>0.912037</td>\n",
       "      <td>0.884259</td>\n",
       "      <td>0.518519</td>\n",
       "      <td>0.157407</td>\n",
       "    </tr>\n",
       "    <tr>\n",
       "      <th>171900</th>\n",
       "      <td>171900</td>\n",
       "      <td>496</td>\n",
       "      <td>3</td>\n",
       "      <td>31</td>\n",
       "      <td>16</td>\n",
       "      <td>0.245370</td>\n",
       "      <td>0.319444</td>\n",
       "      <td>0.277778</td>\n",
       "      <td>0.305556</td>\n",
       "    </tr>\n",
       "    <tr>\n",
       "      <th>171901</th>\n",
       "      <td>171901</td>\n",
       "      <td>496</td>\n",
       "      <td>3</td>\n",
       "      <td>31</td>\n",
       "      <td>21</td>\n",
       "      <td>0.513889</td>\n",
       "      <td>0.435185</td>\n",
       "      <td>0.490741</td>\n",
       "      <td>0.504630</td>\n",
       "    </tr>\n",
       "  </tbody>\n",
       "</table>\n",
       "<p>171902 rows × 9 columns</p>\n",
       "</div>"
      ],
      "text/plain": [
       "         index  station_id  month  day  hour     ctx-4     ctx-3     ctx-2  \\\n",
       "0            0           1      1    1     5  0.781481  0.677778  0.696296   \n",
       "1            1           1      1    1    10  0.737374  0.711111  0.711111   \n",
       "2            2           1      1    1    15  0.827778  0.896296  0.901852   \n",
       "3            3           1      1    1    20  0.825926  0.874074  0.927778   \n",
       "4            4           2      1    1     3  0.592593  0.341954  0.275862   \n",
       "...        ...         ...    ...  ...   ...       ...       ...       ...   \n",
       "171897  171897         496      3   31     1  0.828704  0.787037  0.777778   \n",
       "171898  171898         496      3   31     6  0.930556  0.944444  0.935185   \n",
       "171899  171899         496      3   31    11  0.912037  0.884259  0.518519   \n",
       "171900  171900         496      3   31    16  0.245370  0.319444  0.277778   \n",
       "171901  171901         496      3   31    21  0.513889  0.435185  0.490741   \n",
       "\n",
       "           ctx-1  \n",
       "0       0.750000  \n",
       "1       0.731624  \n",
       "2       0.883333  \n",
       "3       0.918519  \n",
       "4       0.540230  \n",
       "...          ...  \n",
       "171897  0.853535  \n",
       "171898  0.856481  \n",
       "171899  0.157407  \n",
       "171900  0.305556  \n",
       "171901  0.504630  \n",
       "\n",
       "[171902 rows x 9 columns]"
      ]
     },
     "execution_count": 103,
     "metadata": {},
     "output_type": "execute_result"
    }
   ],
   "source": [
    "df"
   ]
  },
  {
   "cell_type": "code",
   "execution_count": 108,
   "id": "01ef50b7-1cca-4e88-bd4d-bc2fb03d1b2b",
   "metadata": {},
   "outputs": [],
   "source": [
    "# provar solo con las variables de contexto"
   ]
  },
  {
   "cell_type": "code",
   "execution_count": 116,
   "id": "c8139bdb-44af-4a5a-b36c-c86b79c5069a",
   "metadata": {},
   "outputs": [],
   "source": [
    "# normalizar"
   ]
  },
  {
   "cell_type": "code",
   "execution_count": 104,
   "id": "397305a1-9c3f-48ff-a352-07ee735df4e2",
   "metadata": {},
   "outputs": [
    {
     "data": {
      "text/plain": [
       "Index(['index', 'station_id', 'month', 'day', 'hour', 'ctx-4', 'ctx-3',\n",
       "       'ctx-2', 'ctx-1'],\n",
       "      dtype='object')"
      ]
     },
     "execution_count": 104,
     "metadata": {},
     "output_type": "execute_result"
    }
   ],
   "source": [
    "df.columns"
   ]
  },
  {
   "cell_type": "code",
   "execution_count": 106,
   "id": "f6a6ef52-c8c2-4d8e-83ac-1b992ec66020",
   "metadata": {},
   "outputs": [],
   "source": [
    "df_pred = pd.read_csv(\"/Users/ulises.rey/local_code/ub-bicing-capstone-project/data/external/sample_submission_2024.csv\")"
   ]
  },
  {
   "cell_type": "code",
   "execution_count": 107,
   "id": "3d73b167-8f0a-4049-b819-78fe59696d2d",
   "metadata": {},
   "outputs": [
    {
     "data": {
      "text/html": [
       "<div>\n",
       "<style scoped>\n",
       "    .dataframe tbody tr th:only-of-type {\n",
       "        vertical-align: middle;\n",
       "    }\n",
       "\n",
       "    .dataframe tbody tr th {\n",
       "        vertical-align: top;\n",
       "    }\n",
       "\n",
       "    .dataframe thead th {\n",
       "        text-align: right;\n",
       "    }\n",
       "</style>\n",
       "<table border=\"1\" class=\"dataframe\">\n",
       "  <thead>\n",
       "    <tr style=\"text-align: right;\">\n",
       "      <th></th>\n",
       "      <th>index</th>\n",
       "      <th>percentage_docks_available</th>\n",
       "    </tr>\n",
       "  </thead>\n",
       "  <tbody>\n",
       "    <tr>\n",
       "      <th>0</th>\n",
       "      <td>0</td>\n",
       "      <td>0.228074</td>\n",
       "    </tr>\n",
       "    <tr>\n",
       "      <th>1</th>\n",
       "      <td>1</td>\n",
       "      <td>0.776294</td>\n",
       "    </tr>\n",
       "    <tr>\n",
       "      <th>2</th>\n",
       "      <td>2</td>\n",
       "      <td>0.485480</td>\n",
       "    </tr>\n",
       "    <tr>\n",
       "      <th>3</th>\n",
       "      <td>3</td>\n",
       "      <td>0.405185</td>\n",
       "    </tr>\n",
       "    <tr>\n",
       "      <th>4</th>\n",
       "      <td>4</td>\n",
       "      <td>0.773393</td>\n",
       "    </tr>\n",
       "    <tr>\n",
       "      <th>...</th>\n",
       "      <td>...</td>\n",
       "      <td>...</td>\n",
       "    </tr>\n",
       "    <tr>\n",
       "      <th>171897</th>\n",
       "      <td>171897</td>\n",
       "      <td>0.870746</td>\n",
       "    </tr>\n",
       "    <tr>\n",
       "      <th>171898</th>\n",
       "      <td>171898</td>\n",
       "      <td>0.874182</td>\n",
       "    </tr>\n",
       "    <tr>\n",
       "      <th>171899</th>\n",
       "      <td>171899</td>\n",
       "      <td>0.284646</td>\n",
       "    </tr>\n",
       "    <tr>\n",
       "      <th>171900</th>\n",
       "      <td>171900</td>\n",
       "      <td>0.684282</td>\n",
       "    </tr>\n",
       "    <tr>\n",
       "      <th>171901</th>\n",
       "      <td>171901</td>\n",
       "      <td>0.299685</td>\n",
       "    </tr>\n",
       "  </tbody>\n",
       "</table>\n",
       "<p>171902 rows × 2 columns</p>\n",
       "</div>"
      ],
      "text/plain": [
       "         index  percentage_docks_available\n",
       "0            0                    0.228074\n",
       "1            1                    0.776294\n",
       "2            2                    0.485480\n",
       "3            3                    0.405185\n",
       "4            4                    0.773393\n",
       "...        ...                         ...\n",
       "171897  171897                    0.870746\n",
       "171898  171898                    0.874182\n",
       "171899  171899                    0.284646\n",
       "171900  171900                    0.684282\n",
       "171901  171901                    0.299685\n",
       "\n",
       "[171902 rows x 2 columns]"
      ]
     },
     "execution_count": 107,
     "metadata": {},
     "output_type": "execute_result"
    }
   ],
   "source": [
    "df_pred"
   ]
  },
  {
   "cell_type": "code",
   "execution_count": 112,
   "id": "baaf8bfd-b21a-4ef5-ae7d-f5c921e648df",
   "metadata": {},
   "outputs": [],
   "source": [
    "X = df[['station_id', 'month', 'day', 'hour', 'ctx-4', 'ctx-3',\n",
    "       'ctx-2', 'ctx-1']]\n",
    "y = df_pred['percentage_docks_available']"
   ]
  },
  {
   "cell_type": "code",
   "execution_count": 113,
   "id": "b1ab2ab6-d673-46f7-b7f1-82cccaae8f62",
   "metadata": {},
   "outputs": [],
   "source": [
    "X_train, X_test, y_train, y_test = train_test_split(X, y, test_size=0.2)"
   ]
  },
  {
   "cell_type": "code",
   "execution_count": 114,
   "id": "3b5c517a-bc7c-464c-acb0-148bd0a454c9",
   "metadata": {},
   "outputs": [
    {
     "data": {
      "text/html": [
       "<style>#sk-container-id-3 {color: black;background-color: white;}#sk-container-id-3 pre{padding: 0;}#sk-container-id-3 div.sk-toggleable {background-color: white;}#sk-container-id-3 label.sk-toggleable__label {cursor: pointer;display: block;width: 100%;margin-bottom: 0;padding: 0.3em;box-sizing: border-box;text-align: center;}#sk-container-id-3 label.sk-toggleable__label-arrow:before {content: \"▸\";float: left;margin-right: 0.25em;color: #696969;}#sk-container-id-3 label.sk-toggleable__label-arrow:hover:before {color: black;}#sk-container-id-3 div.sk-estimator:hover label.sk-toggleable__label-arrow:before {color: black;}#sk-container-id-3 div.sk-toggleable__content {max-height: 0;max-width: 0;overflow: hidden;text-align: left;background-color: #f0f8ff;}#sk-container-id-3 div.sk-toggleable__content pre {margin: 0.2em;color: black;border-radius: 0.25em;background-color: #f0f8ff;}#sk-container-id-3 input.sk-toggleable__control:checked~div.sk-toggleable__content {max-height: 200px;max-width: 100%;overflow: auto;}#sk-container-id-3 input.sk-toggleable__control:checked~label.sk-toggleable__label-arrow:before {content: \"▾\";}#sk-container-id-3 div.sk-estimator input.sk-toggleable__control:checked~label.sk-toggleable__label {background-color: #d4ebff;}#sk-container-id-3 div.sk-label input.sk-toggleable__control:checked~label.sk-toggleable__label {background-color: #d4ebff;}#sk-container-id-3 input.sk-hidden--visually {border: 0;clip: rect(1px 1px 1px 1px);clip: rect(1px, 1px, 1px, 1px);height: 1px;margin: -1px;overflow: hidden;padding: 0;position: absolute;width: 1px;}#sk-container-id-3 div.sk-estimator {font-family: monospace;background-color: #f0f8ff;border: 1px dotted black;border-radius: 0.25em;box-sizing: border-box;margin-bottom: 0.5em;}#sk-container-id-3 div.sk-estimator:hover {background-color: #d4ebff;}#sk-container-id-3 div.sk-parallel-item::after {content: \"\";width: 100%;border-bottom: 1px solid gray;flex-grow: 1;}#sk-container-id-3 div.sk-label:hover label.sk-toggleable__label {background-color: #d4ebff;}#sk-container-id-3 div.sk-serial::before {content: \"\";position: absolute;border-left: 1px solid gray;box-sizing: border-box;top: 0;bottom: 0;left: 50%;z-index: 0;}#sk-container-id-3 div.sk-serial {display: flex;flex-direction: column;align-items: center;background-color: white;padding-right: 0.2em;padding-left: 0.2em;position: relative;}#sk-container-id-3 div.sk-item {position: relative;z-index: 1;}#sk-container-id-3 div.sk-parallel {display: flex;align-items: stretch;justify-content: center;background-color: white;position: relative;}#sk-container-id-3 div.sk-item::before, #sk-container-id-3 div.sk-parallel-item::before {content: \"\";position: absolute;border-left: 1px solid gray;box-sizing: border-box;top: 0;bottom: 0;left: 50%;z-index: -1;}#sk-container-id-3 div.sk-parallel-item {display: flex;flex-direction: column;z-index: 1;position: relative;background-color: white;}#sk-container-id-3 div.sk-parallel-item:first-child::after {align-self: flex-end;width: 50%;}#sk-container-id-3 div.sk-parallel-item:last-child::after {align-self: flex-start;width: 50%;}#sk-container-id-3 div.sk-parallel-item:only-child::after {width: 0;}#sk-container-id-3 div.sk-dashed-wrapped {border: 1px dashed gray;margin: 0 0.4em 0.5em 0.4em;box-sizing: border-box;padding-bottom: 0.4em;background-color: white;}#sk-container-id-3 div.sk-label label {font-family: monospace;font-weight: bold;display: inline-block;line-height: 1.2em;}#sk-container-id-3 div.sk-label-container {text-align: center;}#sk-container-id-3 div.sk-container {/* jupyter's `normalize.less` sets `[hidden] { display: none; }` but bootstrap.min.css set `[hidden] { display: none !important; }` so we also need the `!important` here to be able to override the default hidden behavior on the sphinx rendered scikit-learn.org. See: https://github.com/scikit-learn/scikit-learn/issues/21755 */display: inline-block !important;position: relative;}#sk-container-id-3 div.sk-text-repr-fallback {display: none;}</style><div id=\"sk-container-id-3\" class=\"sk-top-container\"><div class=\"sk-text-repr-fallback\"><pre>LinearRegression()</pre><b>In a Jupyter environment, please rerun this cell to show the HTML representation or trust the notebook. <br />On GitHub, the HTML representation is unable to render, please try loading this page with nbviewer.org.</b></div><div class=\"sk-container\" hidden><div class=\"sk-item\"><div class=\"sk-estimator sk-toggleable\"><input class=\"sk-toggleable__control sk-hidden--visually\" id=\"sk-estimator-id-3\" type=\"checkbox\" checked><label for=\"sk-estimator-id-3\" class=\"sk-toggleable__label sk-toggleable__label-arrow\">LinearRegression</label><div class=\"sk-toggleable__content\"><pre>LinearRegression()</pre></div></div></div></div></div>"
      ],
      "text/plain": [
       "LinearRegression()"
      ]
     },
     "execution_count": 114,
     "metadata": {},
     "output_type": "execute_result"
    }
   ],
   "source": [
    "ln_reg = LinearRegression()\n",
    "\n",
    "ln_reg.fit(X_train, y_train)"
   ]
  },
  {
   "cell_type": "code",
   "execution_count": 115,
   "id": "f0a7d03f-ea2e-4f07-833e-275e611b62e8",
   "metadata": {},
   "outputs": [],
   "source": [
    "y_pred = ln_reg.predict(X_test)"
   ]
  },
  {
   "cell_type": "code",
   "execution_count": 117,
   "id": "129d0cbf-bd5d-433f-80ab-0fba96652e08",
   "metadata": {},
   "outputs": [
    {
     "data": {
      "text/plain": [
       "array([0.50247735, 0.50407047, 0.50001869, ..., 0.50519058, 0.50044558,\n",
       "       0.50061389])"
      ]
     },
     "execution_count": 117,
     "metadata": {},
     "output_type": "execute_result"
    }
   ],
   "source": [
    "y_pred"
   ]
  },
  {
   "cell_type": "code",
   "execution_count": 119,
   "id": "0276fea8-9d5d-46bb-8856-a40422e77c24",
   "metadata": {},
   "outputs": [
    {
     "data": {
      "text/plain": [
       "-7.699263546823154e-05"
      ]
     },
     "execution_count": 119,
     "metadata": {},
     "output_type": "execute_result"
    }
   ],
   "source": [
    "score = r2_score(y_test, y_pred)\n",
    "score"
   ]
  },
  {
   "cell_type": "code",
   "execution_count": null,
   "id": "9db2a26e-4b7a-43f7-991f-969ecdd7d78c",
   "metadata": {},
   "outputs": [],
   "source": []
  }
 ],
 "metadata": {
  "kernelspec": {
   "display_name": "Python 3 (ipykernel)",
   "language": "python",
   "name": "python3"
  },
  "language_info": {
   "codemirror_mode": {
    "name": "ipython",
    "version": 3
   },
   "file_extension": ".py",
   "mimetype": "text/x-python",
   "name": "python",
   "nbconvert_exporter": "python",
   "pygments_lexer": "ipython3",
   "version": "3.8.11"
  }
 },
 "nbformat": 4,
 "nbformat_minor": 5
}
