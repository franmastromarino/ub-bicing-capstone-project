{
  "cells": [
    {
      "cell_type": "code",
      "execution_count": 1,
      "metadata": {
        "colab": {
          "base_uri": "https://localhost:8080/"
        },
        "id": "YlC70xJAU1x1",
        "outputId": "1d574f1c-efab-4e91-8fee-62c4c9562156"
      },
      "outputs": [
        {
          "name": "stdout",
          "output_type": "stream",
          "text": [
            "Requirement already satisfied: requests in /usr/local/lib/python3.10/dist-packages (2.31.0)\n",
            "Requirement already satisfied: charset-normalizer<4,>=2 in /usr/local/lib/python3.10/dist-packages (from requests) (3.3.2)\n",
            "Requirement already satisfied: idna<4,>=2.5 in /usr/local/lib/python3.10/dist-packages (from requests) (3.7)\n",
            "Requirement already satisfied: urllib3<3,>=1.21.1 in /usr/local/lib/python3.10/dist-packages (from requests) (2.0.7)\n",
            "Requirement already satisfied: certifi>=2017.4.17 in /usr/local/lib/python3.10/dist-packages (from requests) (2024.2.2)\n"
          ]
        }
      ],
      "source": [
        "!pip install requests"
      ]
    },
    {
      "cell_type": "code",
      "execution_count": 2,
      "metadata": {
        "id": "Ju9kx38tVfGy"
      },
      "outputs": [],
      "source": [
        "import requests"
      ]
    },
    {
      "cell_type": "code",
      "execution_count": 6,
      "metadata": {
        "id": "V9yfo6KIVBUf"
      },
      "outputs": [],
      "source": [
        "\"\"\"\n",
        "Retrieves the elevation at a given latitude and longitude.\n",
        "\"\"\"\n",
        "def get_elevation(lat : float, lon : float) -> float:\n",
        "\n",
        "  url = \"https://api.open-meteo.com/v1/elevation\"\n",
        "\n",
        "  # Latitude and Longitude parameters\n",
        "  params = { \"latitude\": lat, \"longitude\": lon }\n",
        "\n",
        "  # Making a GET request to the API\n",
        "  response = requests.get(url, params=params)\n",
        "\n",
        "  # Checking if the request was successful (status code 200)\n",
        "  if response.status_code == 200:\n",
        "      # Getting JSON data from the response\n",
        "      data = response.json()\n",
        "      # Printing the response\n",
        "      return data['elevation'][0]\n",
        "  else:\n",
        "      # If the request fails, print the status code\n",
        "      raise Exception(f\"Request failed with status code: {response.status_code}\")"
      ]
    },
    {
      "cell_type": "code",
      "execution_count": 7,
      "metadata": {
        "colab": {
          "base_uri": "https://localhost:8080/"
        },
        "id": "MFyibeNrV97J",
        "outputId": "0218c65f-7a60-4934-fc49-8e0e139c929c"
      },
      "outputs": [
        {
          "data": {
            "text/plain": [
              "21.0"
            ]
          },
          "execution_count": 7,
          "metadata": {},
          "output_type": "execute_result"
        }
      ],
      "source": [
        "## Plaza Real\n",
        "get_elevation(41.3800126, 2.1727183)"
      ]
    }
  ],
  "metadata": {
    "colab": {
      "provenance": []
    },
    "kernelspec": {
      "display_name": "Python 3",
      "name": "python3"
    },
    "language_info": {
      "name": "python"
    }
  },
  "nbformat": 4,
  "nbformat_minor": 0
}
